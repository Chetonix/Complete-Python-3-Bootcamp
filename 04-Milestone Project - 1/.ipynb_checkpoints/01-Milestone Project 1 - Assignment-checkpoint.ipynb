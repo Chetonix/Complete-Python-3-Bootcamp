{
 "cells": [
  {
   "cell_type": "markdown",
   "metadata": {},
   "source": [
    "___\n",
    "\n",
    "<a href='https://www.udemy.com/user/joseportilla/'><img src='../Pierian_Data_Logo.png'/></a>\n",
    "___\n",
    "<center><em>Content Copyright by Pierian Data</em></center>"
   ]
  },
  {
   "cell_type": "markdown",
   "metadata": {},
   "source": [
    "# Milestone Project 1\n",
    "## Congratulations on making it to your first milestone!\n",
    "You've already learned a ton and are ready to work on a real project.\n",
    "\n",
    "Your assignment: Create a Tic Tac Toe game. You are free to use any IDE you like.\n",
    "\n",
    "Here are the requirements:\n",
    "\n",
    "* 2 players should be able to play the game (both sitting at the same computer)\n",
    "* The board should be printed out every time a player makes a move\n",
    "* You should be able to accept input of the player position and then place a symbol on the board\n",
    "\n",
    "Feel free to use Google to help you figure anything out (but don't just Google \"Tic Tac Toe in Python\" otherwise you won't learn anything!) Keep in mind that this project can take anywhere between several hours to several days.\n",
    "\n",
    "There are 4 Jupyter Notebooks related to this assignment:\n",
    "\n",
    "* This Assignment Notebook\n",
    "* A \"Walkthrough Steps Workbook\" Notebook\n",
    "* A \"Complete Walkthrough Solution\" Notebook\n",
    "* An \"Advanced Solution\" Notebook\n",
    "\n",
    "I encourage you to just try to start the project on your own without referencing any of the notebooks. If you get stuck, check out the next lecture which is a text lecture with helpful hints and steps. If you're still stuck after that, then check out the Walkthrough Steps Workbook, which breaks up the project in steps for you to solve. Still stuck? Then check out the Complete Walkthrough Solution video for more help on approaching the project!"
   ]
  },
  {
   "cell_type": "markdown",
   "metadata": {},
   "source": [
    "There are parts of this that will be a struggle...and that is good! I have complete faith that if you have made it this far through the course you have all the tools and knowledge to tackle this project. Remember, it's totally open book, so take your time, do a little research, and remember:\n",
    "\n",
    "## HAVE FUN!"
   ]
  },
  {
   "cell_type": "code",
   "execution_count": null,
   "metadata": {},
   "outputs": [
    {
     "name": "stdout",
     "output_type": "stream",
     "text": [
      " _ _ _\n",
      " _ _ _\n",
      " _ _ _\n",
      "\n",
      "\n",
      "Enter row {1-3}: 1\n",
      "Enter column {1-3}: 1\n",
      " X _ _\n",
      " _ _ _\n",
      " _ _ _\n",
      "\n",
      "\n",
      "Enter row {1-3}: 1\n",
      "Enter column {1-3}: 1\n",
      " O _ _\n",
      " _ _ _\n",
      " _ _ _\n",
      "\n",
      "\n"
     ]
    }
   ],
   "source": [
    "l = [[\"_\",\"_\",\"_\"],[\"_\",\"_\",\"_\"],[\"_\",\"_\",\"_\"]]\n",
    "\n",
    "def display_board(l):\n",
    "    line = \"\"\n",
    "    for sub_list in l:\n",
    "        for item in sub_list:\n",
    "            line += \" \" + item\n",
    "        print(line)\n",
    "        line = \"\"\n",
    "    print(\"\\n\")\n",
    "        \n",
    "def edit_list(l, row, col, choice):\n",
    "    if l[row][col] == \"X\" or l[row][col] == \"O\":\n",
    "        pass\n",
    "    else:\n",
    "        l[row][col] = choice\n",
    "        \n",
    "def check_result(l, choice):\n",
    "    for i in range(0, 3):\n",
    "        if l[i][0] == l[i][1] == l[i][2] == choice:\n",
    "            print(f\"Player {l[i][0]} won the game!\")\n",
    "            return True\n",
    "        if l[0][i] == l[1][i] == l[2][i] == choice:\n",
    "            print(f\"Player {l[0][i]} won the game!\")\n",
    "            return True\n",
    "    if l[0][0] == l[1][1] == l[2][2] == choice:\n",
    "        print(f\"Player {l[0][0]} won the game!\")\n",
    "        return True\n",
    "    if l[0][2] == l[1][1] == l[2][0] == choice:\n",
    "        print(f\"Player {l[0][2]} has won the game!\")\n",
    "        return True\n",
    "    return False\n",
    "\n",
    "choice = \"X\"\n",
    "\n",
    "display_board(l)\n",
    "\n",
    "game_over = False\n",
    "\n",
    "while not game_over:\n",
    "    \n",
    "    row = int(input(\"Enter row {1-3}: \"))\n",
    "    col = int(input(\"Enter column {1-3}: \"))\n",
    "    edit_list(l, row-1, col-1, choice)\n",
    "    game_over = check_result(l, choice)\n",
    "    display_board(l)\n",
    "    if choice == \"X\":\n",
    "        choice = \"O\"\n",
    "    elif choice == \"O\":\n",
    "        choice = \"X\""
   ]
  },
  {
   "cell_type": "code",
   "execution_count": null,
   "metadata": {},
   "outputs": [],
   "source": []
  },
  {
   "cell_type": "code",
   "execution_count": null,
   "metadata": {},
   "outputs": [],
   "source": []
  }
 ],
 "metadata": {
  "kernelspec": {
   "display_name": "Python 3 (ipykernel)",
   "language": "python",
   "name": "python3"
  },
  "language_info": {
   "codemirror_mode": {
    "name": "ipython",
    "version": 3
   },
   "file_extension": ".py",
   "mimetype": "text/x-python",
   "name": "python",
   "nbconvert_exporter": "python",
   "pygments_lexer": "ipython3",
   "version": "3.9.13"
  }
 },
 "nbformat": 4,
 "nbformat_minor": 1
}

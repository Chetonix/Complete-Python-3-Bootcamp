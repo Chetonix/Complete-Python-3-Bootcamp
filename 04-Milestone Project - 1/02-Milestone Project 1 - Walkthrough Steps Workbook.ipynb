{
 "cells": [
  {
   "cell_type": "markdown",
   "metadata": {},
   "source": [
    "___\n",
    "\n",
    "<a href='https://www.udemy.com/user/joseportilla/'><img src='../Pierian_Data_Logo.png'/></a>\n",
    "___\n",
    "<center><em>Content Copyright by Pierian Data</em></center>"
   ]
  },
  {
   "cell_type": "markdown",
   "metadata": {},
   "source": [
    "# Milestone Project 1: Walkthrough Steps Workbook\n",
    "\n",
    "Below is a set of steps for you to follow to try to create the Tic Tac Toe Milestone Project game!"
   ]
  },
  {
   "cell_type": "markdown",
   "metadata": {},
   "source": [
    "#### Some suggested tools before you get started:\n",
    "To take input from a user:\n",
    "\n",
    "    player1 = input(\"Please pick a marker 'X' or 'O'\")\n",
    "    \n",
    "Note that input() takes in a string. If you need an integer value, use\n",
    "\n",
    "    position = int(input('Please enter a number'))\n",
    "    \n",
    "<br>To clear the screen between moves:\n",
    "\n",
    "    from IPython.display import clear_output\n",
    "    clear_output()\n",
    "    \n",
    "Note that clear_output() will only work in jupyter. To clear the screen in other IDEs, consider:\n",
    "\n",
    "    print('\\n'*100)\n",
    "    \n",
    "This scrolls the previous board up out of view. Now on to the program!"
   ]
  },
  {
   "cell_type": "markdown",
   "metadata": {},
   "source": [
    "**Step 1: Write a function that can print out a board. Set up your board as a list, where each index 1-9 corresponds with a number on a number pad, so you get a 3 by 3 board representation.**"
   ]
  },
  {
   "cell_type": "code",
   "execution_count": 1,
   "metadata": {},
   "outputs": [],
   "source": [
    "from IPython.display import clear_output\n",
    "\n",
    "def display_board(board):\n",
    "    line = \"\"\n",
    "    for index, item in enumerate(board):\n",
    "        if index >=1 and index <= 3:\n",
    "            line += \" \" + item\n",
    "        if index == 4:\n",
    "            line += \"\\n\"\n",
    "        if index >=4 and index <= 6:\n",
    "            line += \" \" + item\n",
    "        if index == 7:\n",
    "            line += \"\\n\"\n",
    "        if index>=7 and index <=9:\n",
    "            line += \" \" + item\n",
    "    print(line)"
   ]
  },
  {
   "cell_type": "markdown",
   "metadata": {},
   "source": [
    "**TEST Step 1:** run your function on a test version of the board list, and make adjustments as necessary"
   ]
  },
  {
   "cell_type": "code",
   "execution_count": 2,
   "metadata": {},
   "outputs": [
    {
     "name": "stdout",
     "output_type": "stream",
     "text": [
      " X O X\n",
      " O X O\n",
      " X O X\n"
     ]
    }
   ],
   "source": [
    "test_board = ['#','X','O','X','O','X','O','X','O','X']\n",
    "display_board(test_board)"
   ]
  },
  {
   "cell_type": "markdown",
   "metadata": {},
   "source": [
    "**Step 2: Write a function that can take in a player input and assign their marker as 'X' or 'O'. Think about using *while* loops to continually ask until you get a correct answer.**"
   ]
  },
  {
   "cell_type": "code",
   "execution_count": 3,
   "metadata": {},
   "outputs": [],
   "source": [
    "def player_input():\n",
    "    choice = \"WRONG\"\n",
    "    while choice != \"X\" and choice != \"O\":\n",
    "        choice = input(\"Choose either X or O: \")\n",
    "    return choice"
   ]
  },
  {
   "cell_type": "markdown",
   "metadata": {},
   "source": [
    "**TEST Step 2:** run the function to make sure it returns the desired output"
   ]
  },
  {
   "cell_type": "code",
   "execution_count": 4,
   "metadata": {},
   "outputs": [
    {
     "name": "stdout",
     "output_type": "stream",
     "text": [
      "Choose either X or O: X\n"
     ]
    },
    {
     "data": {
      "text/plain": [
       "'X'"
      ]
     },
     "execution_count": 4,
     "metadata": {},
     "output_type": "execute_result"
    }
   ],
   "source": [
    "player_input()"
   ]
  },
  {
   "cell_type": "markdown",
   "metadata": {},
   "source": [
    "**Step 3: Write a function that takes in the board list object, a marker ('X' or 'O'), and a desired position (number 1-9) and assigns it to the board.**"
   ]
  },
  {
   "cell_type": "code",
   "execution_count": 5,
   "metadata": {},
   "outputs": [],
   "source": [
    "def place_marker(board, marker, position):\n",
    "    board[position] = marker\n"
   ]
  },
  {
   "cell_type": "markdown",
   "metadata": {},
   "source": [
    "**TEST Step 3:** run the place marker function using test parameters and display the modified board"
   ]
  },
  {
   "cell_type": "code",
   "execution_count": 6,
   "metadata": {},
   "outputs": [
    {
     "name": "stdout",
     "output_type": "stream",
     "text": [
      " X O X\n",
      " O X O\n",
      " X $ X\n"
     ]
    }
   ],
   "source": [
    "place_marker(test_board,'$',8)\n",
    "display_board(test_board)"
   ]
  },
  {
   "cell_type": "markdown",
   "metadata": {},
   "source": [
    "**Step 4: Write a function that takes in a board and a mark (X or O) and then checks to see if that mark has won. **"
   ]
  },
  {
   "cell_type": "code",
   "execution_count": 7,
   "metadata": {},
   "outputs": [],
   "source": [
    "def win_check(test_board, mark):\n",
    "    if test_board[1] == test_board[2] == test_board[3] == mark:\n",
    "        print(f\"Player {mark} has won!\")\n",
    "        return True\n",
    "    elif test_board[4] == test_board[5] == test_board[6] == mark:\n",
    "        print(f\"Player {mark} has won!\")\n",
    "        return True\n",
    "    elif test_board[7] == test_board[8] == test_board[9] == mark:\n",
    "        print(f\"Player {mark} has won!\")\n",
    "        return True\n",
    "    elif test_board[1] == test_board[4] == test_board[7] == mark:\n",
    "        print(f\"Player {mark} has won!\")\n",
    "        return True\n",
    "    elif test_board[2] == test_board[5] == test_board[8] == mark:\n",
    "        print(f\"Player {mark} has won!\")\n",
    "        return True\n",
    "    elif test_board[3] == test_board[6] == test_board[9] == mark:\n",
    "        print(f\"Player {mark} has won!\")\n",
    "        return True\n",
    "    elif test_board[1] == test_board[5] == test_board[9] == mark:\n",
    "        print(f\"Player {mark} has won!\")\n",
    "        return True\n",
    "    elif test_board[3] == test_board[5] == test_board[7] == mark:\n",
    "        print(f\"Player {mark} has won!\")\n",
    "        return True\n",
    "    return False"
   ]
  },
  {
   "cell_type": "markdown",
   "metadata": {},
   "source": [
    "**TEST Step 4:** run the win_check function against our test_board - it should return True"
   ]
  },
  {
   "cell_type": "code",
   "execution_count": 8,
   "metadata": {},
   "outputs": [
    {
     "name": "stdout",
     "output_type": "stream",
     "text": [
      "Player X has won!\n"
     ]
    },
    {
     "data": {
      "text/plain": [
       "True"
      ]
     },
     "execution_count": 8,
     "metadata": {},
     "output_type": "execute_result"
    }
   ],
   "source": [
    "win_check(test_board,'X')"
   ]
  },
  {
   "cell_type": "markdown",
   "metadata": {},
   "source": [
    "**Step 5: Write a function that uses the random module to randomly decide which player goes first. You may want to lookup random.randint() Return a string of which player went first.**"
   ]
  },
  {
   "cell_type": "code",
   "execution_count": 9,
   "metadata": {},
   "outputs": [],
   "source": [
    "import random\n",
    "\n",
    "def choose_first():\n",
    "    choice = random.randint(0, 1)\n",
    "    if choice == 0:\n",
    "        choice = \"X\"\n",
    "    else:\n",
    "        choice = \"Y\"\n",
    "    return choice"
   ]
  },
  {
   "cell_type": "markdown",
   "metadata": {},
   "source": [
    "**Step 6: Write a function that returns a boolean indicating whether a space on the board is freely available.**"
   ]
  },
  {
   "cell_type": "code",
   "execution_count": 10,
   "metadata": {},
   "outputs": [],
   "source": [
    "def space_check(board, position):\n",
    "    \n",
    "    if board[position] == \"X\" or board[position] == \"O\":\n",
    "        return False\n",
    "    else:\n",
    "        return True"
   ]
  },
  {
   "cell_type": "markdown",
   "metadata": {},
   "source": [
    "**Step 7: Write a function that checks if the board is full and returns a boolean value. True if full, False otherwise.**"
   ]
  },
  {
   "cell_type": "code",
   "execution_count": 11,
   "metadata": {},
   "outputs": [],
   "source": [
    "def full_board_check(board):\n",
    "    \n",
    "    for item in board[1:]: \n",
    "        if item != \"X\" and item != \"O\":\n",
    "            return False\n",
    "    return True"
   ]
  },
  {
   "cell_type": "markdown",
   "metadata": {},
   "source": [
    "**Step 8: Write a function that asks for a player's next position (as a number 1-9) and then uses the function from step 6 to check if it's a free position. If it is, then return the position for later use.**"
   ]
  },
  {
   "cell_type": "code",
   "execution_count": 12,
   "metadata": {},
   "outputs": [],
   "source": [
    "def player_choice(board):\n",
    "    position = int(input(\"Enter a position between 1-9: \"))\n",
    "    while not space_check(board, position):\n",
    "        print(\"Place already taken!\")\n",
    "        position = int(input(\"Enter a position between 1-9: \"))\n",
    "    \n",
    "    return position\n",
    "        "
   ]
  },
  {
   "cell_type": "markdown",
   "metadata": {},
   "source": [
    "**Step 9: Write a function that asks the player if they want to play again and returns a boolean True if they do want to play again.**"
   ]
  },
  {
   "cell_type": "code",
   "execution_count": 13,
   "metadata": {},
   "outputs": [],
   "source": [
    "def replay():\n",
    "    play_again = input(\"Do you want to play again? 'y' or 'n': \")\n",
    "    if play_again.lower() == 'y':\n",
    "        clear_output()\n",
    "        return True\n",
    "    else:\n",
    "        return False"
   ]
  },
  {
   "cell_type": "markdown",
   "metadata": {
    "collapsed": true
   },
   "source": [
    "**Step 10: Here comes the hard part! Use while loops and the functions you've made to run the game!**"
   ]
  },
  {
   "cell_type": "code",
   "execution_count": null,
   "metadata": {},
   "outputs": [
    {
     "name": "stdout",
     "output_type": "stream",
     "text": [
      " 1 2 3\n",
      " 4 5 6\n",
      " 7 8 9\n"
     ]
    }
   ],
   "source": [
    "from IPython.display import clear_output\n",
    "\n",
    "print('Welcome to Tic Tac Toe!')\n",
    "\n",
    "\n",
    "\n",
    "while True:\n",
    "    # Set the game up here\n",
    "    \n",
    "    board = ['0', '1', '2', '3', '4', '5', '6', '7', '8', '9']\n",
    "    game_off = False\n",
    "    \n",
    "    display_board(board)\n",
    "    marker = player_input()\n",
    "    is_return = False\n",
    "    while not game_off:\n",
    "        #Player 1 Turn\n",
    "        if is_return:\n",
    "            if marker == \"X\":\n",
    "                marker = \"O\"\n",
    "            elif marker == \"O\":\n",
    "                marker = \"X\"\n",
    "        position = player_choice(board)\n",
    "        \n",
    "        place_marker(board, marker, position)\n",
    "        clear_output()\n",
    "        display_board(board)\n",
    "        game_off = win_check(board, marker)\n",
    "        if game_off:\n",
    "            break\n",
    "        if full_board_check(board):\n",
    "            break\n",
    "        # Player2's turn.\n",
    "        if marker == \"X\":\n",
    "            marker = \"O\"\n",
    "        elif marker == \"O\":\n",
    "            marker = \"X\"\n",
    "        is_return = True\n",
    "        position = player_choice(board)\n",
    "        \n",
    "        place_marker(board, marker, position)\n",
    "        \n",
    "        clear_output()\n",
    "        display_board(board)\n",
    "        \n",
    "        game_off = win_check(board, marker)\n",
    "        if game_off:\n",
    "            break\n",
    "        if full_board_check(board):\n",
    "            break\n",
    "\n",
    "    if not replay():\n",
    "        clear_output()\n",
    "        break"
   ]
  },
  {
   "cell_type": "markdown",
   "metadata": {
    "collapsed": true
   },
   "source": [
    "## Good Job!"
   ]
  },
  {
   "cell_type": "code",
   "execution_count": null,
   "metadata": {},
   "outputs": [],
   "source": []
  }
 ],
 "metadata": {
  "kernelspec": {
   "display_name": "Python 3 (ipykernel)",
   "language": "python",
   "name": "python3"
  },
  "language_info": {
   "codemirror_mode": {
    "name": "ipython",
    "version": 3
   },
   "file_extension": ".py",
   "mimetype": "text/x-python",
   "name": "python",
   "nbconvert_exporter": "python",
   "pygments_lexer": "ipython3",
   "version": "3.9.13"
  }
 },
 "nbformat": 4,
 "nbformat_minor": 1
}
